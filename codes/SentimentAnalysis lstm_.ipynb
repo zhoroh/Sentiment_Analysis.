{
 "cells": [
  {
   "cell_type": "code",
   "execution_count": 1,
   "metadata": {
    "_cell_guid": "84d7db06-7426-40e3-8785-0d80d340dcab",
    "_uuid": "0e8cfe3c-665c-4c78-9786-d9426949068b",
    "execution": {
     "iopub.execute_input": "2022-01-07T00:34:26.853051Z",
     "iopub.status.busy": "2022-01-07T00:34:26.852447Z",
     "iopub.status.idle": "2022-01-07T00:34:26.888603Z",
     "shell.execute_reply": "2022-01-07T00:34:26.887876Z",
     "shell.execute_reply.started": "2022-01-07T00:34:26.852966Z"
    },
    "jupyter": {
     "outputs_hidden": false
    }
   },
   "outputs": [
    {
     "name": "stdout",
     "output_type": "stream",
     "text": [
      "/kaggle/input/tweets/Tweets.csv\n"
     ]
    }
   ],
   "source": [
    "# This Python 3 environment comes with many helpful analytics libraries installed\n",
    "# It is defined by the kaggle/python Docker image: https://github.com/kaggle/docker-python\n",
    "# For example, here's several helpful packages to load\n",
    "\n",
    "import numpy as np # linear algebra\n",
    "import pandas as pd # data processing, CSV file I/O (e.g. pd.read_csv)\n",
    "\n",
    "# Input data files are available in the read-only \"../input/\" directory\n",
    "# For example, running this (by clicking run or pressing Shift+Enter) will list all files under the input directory\n",
    "\n",
    "import os\n",
    "for dirname, _, filenames in os.walk('/kaggle/input'):\n",
    "    for filename in filenames:\n",
    "        print(os.path.join(dirname, filename))\n",
    "\n",
    "# You can write up to 20GB to the current directory (/kaggle/working/) that gets preserved as output when you create a version using \"Save & Run All\" \n",
    "# You can also write temporary files to /kaggle/temp/, but they won't be saved outside of the current session"
   ]
  },
  {
   "cell_type": "code",
   "execution_count": 2,
   "metadata": {
    "_cell_guid": "28ca522d-23a2-4212-b0e0-4a0c23e2307d",
    "_uuid": "4b6746d6-36c3-4532-81dd-f1a16426858f",
    "execution": {
     "iopub.execute_input": "2022-01-07T00:34:36.082908Z",
     "iopub.status.busy": "2022-01-07T00:34:36.082652Z",
     "iopub.status.idle": "2022-01-07T00:34:36.395107Z",
     "shell.execute_reply": "2022-01-07T00:34:36.394375Z",
     "shell.execute_reply.started": "2022-01-07T00:34:36.082875Z"
    },
    "jupyter": {
     "outputs_hidden": false
    }
   },
   "outputs": [],
   "source": [
    "df = pd.read_csv(\"/kaggle/input/tweets/Tweets.csv\")"
   ]
  },
  {
   "cell_type": "code",
   "execution_count": 3,
   "metadata": {
    "_cell_guid": "0a6aacaa-87f7-4af3-9917-6b3560fd6a28",
    "_uuid": "c2a30400-4b13-4688-992c-df703e20c4cf",
    "execution": {
     "iopub.execute_input": "2022-01-07T00:34:37.152532Z",
     "iopub.status.busy": "2022-01-07T00:34:37.151996Z",
     "iopub.status.idle": "2022-01-07T00:34:43.329862Z",
     "shell.execute_reply": "2022-01-07T00:34:43.329083Z",
     "shell.execute_reply.started": "2022-01-07T00:34:37.152493Z"
    },
    "jupyter": {
     "outputs_hidden": false
    }
   },
   "outputs": [],
   "source": [
    "# Importing required libraries\n",
    "import nltk\n",
    "import numpy as np\n",
    "import pandas as pd\n",
    "from nltk.corpus import stopwords\n",
    "from textblob import Word\n",
    "from sklearn.preprocessing import LabelEncoder\n",
    "from collections import Counter\n",
    "import wordcloud\n",
    "from sklearn.metrics import classification_report,confusion_matrix,accuracy_score\n",
    "from tensorflow.keras.models import Sequential\n",
    "from tensorflow.keras.preprocessing.text import Tokenizer\n",
    "from tensorflow.keras.preprocessing.sequence import pad_sequences\n",
    "from tensorflow.keras.layers import Dense, Embedding, LSTM, SpatialDropout1D\n",
    "from sklearn.model_selection import train_test_split \n",
    "import matplotlib.pyplot as plt\n",
    "from nltk.tokenize import word_tokenize\n",
    "from nltk.stem import WordNetLemmatizer\n",
    "from tensorflow.keras.callbacks import EarlyStopping\n",
    "import tensorflow_addons as tfa"
   ]
  },
  {
   "cell_type": "code",
   "execution_count": 4,
   "metadata": {
    "_cell_guid": "006ab779-d8e4-4924-a133-66615360c53a",
    "_uuid": "f8a9b350-a984-4014-a3d7-95326f5d16d8",
    "execution": {
     "iopub.execute_input": "2022-01-07T00:34:43.333559Z",
     "iopub.status.busy": "2022-01-07T00:34:43.333332Z",
     "iopub.status.idle": "2022-01-07T00:34:43.345606Z",
     "shell.execute_reply": "2022-01-07T00:34:43.344865Z",
     "shell.execute_reply.started": "2022-01-07T00:34:43.333534Z"
    },
    "jupyter": {
     "outputs_hidden": false
    }
   },
   "outputs": [],
   "source": [
    "Data = df[['non_punctuated_tweets','sentiment']]"
   ]
  },
  {
   "cell_type": "code",
   "execution_count": 5,
   "metadata": {
    "_cell_guid": "c0eecf30-b13b-4098-9c33-52a222a22503",
    "_uuid": "cdda3bea-0722-47e4-a491-72b270ae425d",
    "execution": {
     "iopub.execute_input": "2022-01-07T00:34:43.348882Z",
     "iopub.status.busy": "2022-01-07T00:34:43.348644Z",
     "iopub.status.idle": "2022-01-07T00:34:43.373732Z",
     "shell.execute_reply": "2022-01-07T00:34:43.373141Z",
     "shell.execute_reply.started": "2022-01-07T00:34:43.348856Z"
    },
    "jupyter": {
     "outputs_hidden": false
    }
   },
   "outputs": [
    {
     "data": {
      "text/html": [
       "<div>\n",
       "<style scoped>\n",
       "    .dataframe tbody tr th:only-of-type {\n",
       "        vertical-align: middle;\n",
       "    }\n",
       "\n",
       "    .dataframe tbody tr th {\n",
       "        vertical-align: top;\n",
       "    }\n",
       "\n",
       "    .dataframe thead th {\n",
       "        text-align: right;\n",
       "    }\n",
       "</style>\n",
       "<table border=\"1\" class=\"dataframe\">\n",
       "  <thead>\n",
       "    <tr style=\"text-align: right;\">\n",
       "      <th></th>\n",
       "      <th>non_punctuated_tweets</th>\n",
       "      <th>sentiment</th>\n",
       "    </tr>\n",
       "  </thead>\n",
       "  <tbody>\n",
       "    <tr>\n",
       "      <th>0</th>\n",
       "      <td>put hours game last year still holds well blas...</td>\n",
       "      <td>positive</td>\n",
       "    </tr>\n",
       "    <tr>\n",
       "      <th>1</th>\n",
       "      <td>story great terrible</td>\n",
       "      <td>positive</td>\n",
       "    </tr>\n",
       "    <tr>\n",
       "      <th>2</th>\n",
       "      <td>jaedo event bought tickets nd quarter finally ...</td>\n",
       "      <td>negative</td>\n",
       "    </tr>\n",
       "    <tr>\n",
       "      <th>3</th>\n",
       "      <td>year going super dynamic bc im graduating uni ...</td>\n",
       "      <td>positive</td>\n",
       "    </tr>\n",
       "    <tr>\n",
       "      <th>4</th>\n",
       "      <td>literally tough year none plan going right pre...</td>\n",
       "      <td>positive</td>\n",
       "    </tr>\n",
       "    <tr>\n",
       "      <th>...</th>\n",
       "      <td>...</td>\n",
       "      <td>...</td>\n",
       "    </tr>\n",
       "    <tr>\n",
       "      <th>17769</th>\n",
       "      <td>really rough one mental health truly feel many...</td>\n",
       "      <td>positive</td>\n",
       "    </tr>\n",
       "    <tr>\n",
       "      <th>17770</th>\n",
       "      <td>happy new year everyone except boy dated coupl...</td>\n",
       "      <td>positive</td>\n",
       "    </tr>\n",
       "    <tr>\n",
       "      <th>17771</th>\n",
       "      <td>crazy bought car moved shot porn butt plug bum...</td>\n",
       "      <td>negative</td>\n",
       "    </tr>\n",
       "    <tr>\n",
       "      <th>17772</th>\n",
       "      <td>think descent art year despite able use tablet...</td>\n",
       "      <td>neutral</td>\n",
       "    </tr>\n",
       "    <tr>\n",
       "      <th>17773</th>\n",
       "      <td>hi active moment wanted say happy new year acc...</td>\n",
       "      <td>positive</td>\n",
       "    </tr>\n",
       "  </tbody>\n",
       "</table>\n",
       "<p>17774 rows × 2 columns</p>\n",
       "</div>"
      ],
      "text/plain": [
       "                                   non_punctuated_tweets sentiment\n",
       "0      put hours game last year still holds well blas...  positive\n",
       "1                                   story great terrible  positive\n",
       "2      jaedo event bought tickets nd quarter finally ...  negative\n",
       "3      year going super dynamic bc im graduating uni ...  positive\n",
       "4      literally tough year none plan going right pre...  positive\n",
       "...                                                  ...       ...\n",
       "17769  really rough one mental health truly feel many...  positive\n",
       "17770  happy new year everyone except boy dated coupl...  positive\n",
       "17771  crazy bought car moved shot porn butt plug bum...  negative\n",
       "17772  think descent art year despite able use tablet...   neutral\n",
       "17773  hi active moment wanted say happy new year acc...  positive\n",
       "\n",
       "[17774 rows x 2 columns]"
      ]
     },
     "execution_count": 5,
     "metadata": {},
     "output_type": "execute_result"
    }
   ],
   "source": [
    "Data"
   ]
  },
  {
   "cell_type": "code",
   "execution_count": 6,
   "metadata": {
    "_cell_guid": "778afe1d-85e3-440e-b4d0-58279a8c604e",
    "_uuid": "05b36aa8-9cce-4376-8083-8dafa33ba6f8",
    "execution": {
     "iopub.execute_input": "2022-01-07T00:34:43.376450Z",
     "iopub.status.busy": "2022-01-07T00:34:43.376253Z",
     "iopub.status.idle": "2022-01-07T00:34:47.299125Z",
     "shell.execute_reply": "2022-01-07T00:34:47.298156Z",
     "shell.execute_reply.started": "2022-01-07T00:34:43.376420Z"
    },
    "jupyter": {
     "outputs_hidden": false
    }
   },
   "outputs": [
    {
     "name": "stderr",
     "output_type": "stream",
     "text": [
      "/opt/conda/lib/python3.7/site-packages/ipykernel_launcher.py:1: SettingWithCopyWarning: \n",
      "A value is trying to be set on a copy of a slice from a DataFrame.\n",
      "Try using .loc[row_indexer,col_indexer] = value instead\n",
      "\n",
      "See the caveats in the documentation: https://pandas.pydata.org/pandas-docs/stable/user_guide/indexing.html#returning-a-view-versus-a-copy\n",
      "  \"\"\"Entry point for launching an IPython kernel.\n"
     ]
    }
   ],
   "source": [
    "Data['tokenized_tweets'] = Data.apply(lambda row : nltk.word_tokenize(str(row['non_punctuated_tweets'])),axis = 1)"
   ]
  },
  {
   "cell_type": "code",
   "execution_count": 7,
   "metadata": {
    "_cell_guid": "f1f955e9-8687-4b4c-b92c-ba16e0bf14e3",
    "_uuid": "d85587bc-0484-4685-bb64-88800a38cb19",
    "execution": {
     "iopub.execute_input": "2022-01-07T00:34:47.301072Z",
     "iopub.status.busy": "2022-01-07T00:34:47.300198Z",
     "iopub.status.idle": "2022-01-07T00:34:47.317820Z",
     "shell.execute_reply": "2022-01-07T00:34:47.317002Z",
     "shell.execute_reply.started": "2022-01-07T00:34:47.301033Z"
    },
    "jupyter": {
     "outputs_hidden": false
    }
   },
   "outputs": [
    {
     "data": {
      "text/html": [
       "<div>\n",
       "<style scoped>\n",
       "    .dataframe tbody tr th:only-of-type {\n",
       "        vertical-align: middle;\n",
       "    }\n",
       "\n",
       "    .dataframe tbody tr th {\n",
       "        vertical-align: top;\n",
       "    }\n",
       "\n",
       "    .dataframe thead th {\n",
       "        text-align: right;\n",
       "    }\n",
       "</style>\n",
       "<table border=\"1\" class=\"dataframe\">\n",
       "  <thead>\n",
       "    <tr style=\"text-align: right;\">\n",
       "      <th></th>\n",
       "      <th>non_punctuated_tweets</th>\n",
       "      <th>sentiment</th>\n",
       "      <th>tokenized_tweets</th>\n",
       "    </tr>\n",
       "  </thead>\n",
       "  <tbody>\n",
       "    <tr>\n",
       "      <th>0</th>\n",
       "      <td>put hours game last year still holds well blas...</td>\n",
       "      <td>positive</td>\n",
       "      <td>[put, hours, game, last, year, still, holds, w...</td>\n",
       "    </tr>\n",
       "    <tr>\n",
       "      <th>1</th>\n",
       "      <td>story great terrible</td>\n",
       "      <td>positive</td>\n",
       "      <td>[story, great, terrible]</td>\n",
       "    </tr>\n",
       "    <tr>\n",
       "      <th>2</th>\n",
       "      <td>jaedo event bought tickets nd quarter finally ...</td>\n",
       "      <td>negative</td>\n",
       "      <td>[jaedo, event, bought, tickets, nd, quarter, f...</td>\n",
       "    </tr>\n",
       "    <tr>\n",
       "      <th>3</th>\n",
       "      <td>year going super dynamic bc im graduating uni ...</td>\n",
       "      <td>positive</td>\n",
       "      <td>[year, going, super, dynamic, bc, im, graduati...</td>\n",
       "    </tr>\n",
       "    <tr>\n",
       "      <th>4</th>\n",
       "      <td>literally tough year none plan going right pre...</td>\n",
       "      <td>positive</td>\n",
       "      <td>[literally, tough, year, none, plan, going, ri...</td>\n",
       "    </tr>\n",
       "    <tr>\n",
       "      <th>...</th>\n",
       "      <td>...</td>\n",
       "      <td>...</td>\n",
       "      <td>...</td>\n",
       "    </tr>\n",
       "    <tr>\n",
       "      <th>17769</th>\n",
       "      <td>really rough one mental health truly feel many...</td>\n",
       "      <td>positive</td>\n",
       "      <td>[really, rough, one, mental, health, truly, fe...</td>\n",
       "    </tr>\n",
       "    <tr>\n",
       "      <th>17770</th>\n",
       "      <td>happy new year everyone except boy dated coupl...</td>\n",
       "      <td>positive</td>\n",
       "      <td>[happy, new, year, everyone, except, boy, date...</td>\n",
       "    </tr>\n",
       "    <tr>\n",
       "      <th>17771</th>\n",
       "      <td>crazy bought car moved shot porn butt plug bum...</td>\n",
       "      <td>negative</td>\n",
       "      <td>[crazy, bought, car, moved, shot, porn, butt, ...</td>\n",
       "    </tr>\n",
       "    <tr>\n",
       "      <th>17772</th>\n",
       "      <td>think descent art year despite able use tablet...</td>\n",
       "      <td>neutral</td>\n",
       "      <td>[think, descent, art, year, despite, able, use...</td>\n",
       "    </tr>\n",
       "    <tr>\n",
       "      <th>17773</th>\n",
       "      <td>hi active moment wanted say happy new year acc...</td>\n",
       "      <td>positive</td>\n",
       "      <td>[hi, active, moment, wanted, say, happy, new, ...</td>\n",
       "    </tr>\n",
       "  </tbody>\n",
       "</table>\n",
       "<p>17774 rows × 3 columns</p>\n",
       "</div>"
      ],
      "text/plain": [
       "                                   non_punctuated_tweets sentiment  \\\n",
       "0      put hours game last year still holds well blas...  positive   \n",
       "1                                   story great terrible  positive   \n",
       "2      jaedo event bought tickets nd quarter finally ...  negative   \n",
       "3      year going super dynamic bc im graduating uni ...  positive   \n",
       "4      literally tough year none plan going right pre...  positive   \n",
       "...                                                  ...       ...   \n",
       "17769  really rough one mental health truly feel many...  positive   \n",
       "17770  happy new year everyone except boy dated coupl...  positive   \n",
       "17771  crazy bought car moved shot porn butt plug bum...  negative   \n",
       "17772  think descent art year despite able use tablet...   neutral   \n",
       "17773  hi active moment wanted say happy new year acc...  positive   \n",
       "\n",
       "                                        tokenized_tweets  \n",
       "0      [put, hours, game, last, year, still, holds, w...  \n",
       "1                               [story, great, terrible]  \n",
       "2      [jaedo, event, bought, tickets, nd, quarter, f...  \n",
       "3      [year, going, super, dynamic, bc, im, graduati...  \n",
       "4      [literally, tough, year, none, plan, going, ri...  \n",
       "...                                                  ...  \n",
       "17769  [really, rough, one, mental, health, truly, fe...  \n",
       "17770  [happy, new, year, everyone, except, boy, date...  \n",
       "17771  [crazy, bought, car, moved, shot, porn, butt, ...  \n",
       "17772  [think, descent, art, year, despite, able, use...  \n",
       "17773  [hi, active, moment, wanted, say, happy, new, ...  \n",
       "\n",
       "[17774 rows x 3 columns]"
      ]
     },
     "execution_count": 7,
     "metadata": {},
     "output_type": "execute_result"
    }
   ],
   "source": [
    "Data"
   ]
  },
  {
   "cell_type": "code",
   "execution_count": 8,
   "metadata": {
    "_cell_guid": "c1ca58a9-926c-4746-a839-20e58b60c7f3",
    "_uuid": "2b7f617b-7d78-439e-9a46-0e47a353e769",
    "execution": {
     "iopub.execute_input": "2022-01-07T00:34:47.320680Z",
     "iopub.status.busy": "2022-01-07T00:34:47.320150Z",
     "iopub.status.idle": "2022-01-07T00:34:51.298237Z",
     "shell.execute_reply": "2022-01-07T00:34:51.297454Z",
     "shell.execute_reply.started": "2022-01-07T00:34:47.320640Z"
    },
    "jupyter": {
     "outputs_hidden": false
    }
   },
   "outputs": [
    {
     "name": "stderr",
     "output_type": "stream",
     "text": [
      "/opt/conda/lib/python3.7/site-packages/ipykernel_launcher.py:3: SettingWithCopyWarning: \n",
      "A value is trying to be set on a copy of a slice from a DataFrame.\n",
      "Try using .loc[row_indexer,col_indexer] = value instead\n",
      "\n",
      "See the caveats in the documentation: https://pandas.pydata.org/pandas-docs/stable/user_guide/indexing.html#returning-a-view-versus-a-copy\n",
      "  This is separate from the ipykernel package so we can avoid doing imports until\n"
     ]
    }
   ],
   "source": [
    "def lemma(data):\n",
    "    return \" \".join([Word(word).lemmatize() for word in data])\n",
    "Data['lemmatized_tweets']= Data['tokenized_tweets'].apply(lambda x: lemma(x))"
   ]
  },
  {
   "cell_type": "code",
   "execution_count": 9,
   "metadata": {
    "_cell_guid": "9d30f36a-93fe-41ea-83d6-210de505a051",
    "_uuid": "289389ec-fa41-4ff2-b420-83fe5ecfdd21",
    "execution": {
     "iopub.execute_input": "2022-01-07T00:34:51.299911Z",
     "iopub.status.busy": "2022-01-07T00:34:51.299488Z",
     "iopub.status.idle": "2022-01-07T00:34:51.318712Z",
     "shell.execute_reply": "2022-01-07T00:34:51.317867Z",
     "shell.execute_reply.started": "2022-01-07T00:34:51.299863Z"
    },
    "jupyter": {
     "outputs_hidden": false
    }
   },
   "outputs": [
    {
     "data": {
      "text/html": [
       "<div>\n",
       "<style scoped>\n",
       "    .dataframe tbody tr th:only-of-type {\n",
       "        vertical-align: middle;\n",
       "    }\n",
       "\n",
       "    .dataframe tbody tr th {\n",
       "        vertical-align: top;\n",
       "    }\n",
       "\n",
       "    .dataframe thead th {\n",
       "        text-align: right;\n",
       "    }\n",
       "</style>\n",
       "<table border=\"1\" class=\"dataframe\">\n",
       "  <thead>\n",
       "    <tr style=\"text-align: right;\">\n",
       "      <th></th>\n",
       "      <th>non_punctuated_tweets</th>\n",
       "      <th>sentiment</th>\n",
       "      <th>tokenized_tweets</th>\n",
       "      <th>lemmatized_tweets</th>\n",
       "    </tr>\n",
       "  </thead>\n",
       "  <tbody>\n",
       "    <tr>\n",
       "      <th>0</th>\n",
       "      <td>put hours game last year still holds well blas...</td>\n",
       "      <td>positive</td>\n",
       "      <td>[put, hours, game, last, year, still, holds, w...</td>\n",
       "      <td>put hour game last year still hold well blast ...</td>\n",
       "    </tr>\n",
       "    <tr>\n",
       "      <th>1</th>\n",
       "      <td>story great terrible</td>\n",
       "      <td>positive</td>\n",
       "      <td>[story, great, terrible]</td>\n",
       "      <td>story great terrible</td>\n",
       "    </tr>\n",
       "    <tr>\n",
       "      <th>2</th>\n",
       "      <td>jaedo event bought tickets nd quarter finally ...</td>\n",
       "      <td>negative</td>\n",
       "      <td>[jaedo, event, bought, tickets, nd, quarter, f...</td>\n",
       "      <td>jaedo event bought ticket nd quarter finally p...</td>\n",
       "    </tr>\n",
       "    <tr>\n",
       "      <th>3</th>\n",
       "      <td>year going super dynamic bc im graduating uni ...</td>\n",
       "      <td>positive</td>\n",
       "      <td>[year, going, super, dynamic, bc, im, graduati...</td>\n",
       "      <td>year going super dynamic bc im graduating uni ...</td>\n",
       "    </tr>\n",
       "    <tr>\n",
       "      <th>4</th>\n",
       "      <td>literally tough year none plan going right pre...</td>\n",
       "      <td>positive</td>\n",
       "      <td>[literally, tough, year, none, plan, going, ri...</td>\n",
       "      <td>literally tough year none plan going right pre...</td>\n",
       "    </tr>\n",
       "    <tr>\n",
       "      <th>...</th>\n",
       "      <td>...</td>\n",
       "      <td>...</td>\n",
       "      <td>...</td>\n",
       "      <td>...</td>\n",
       "    </tr>\n",
       "    <tr>\n",
       "      <th>17769</th>\n",
       "      <td>really rough one mental health truly feel many...</td>\n",
       "      <td>positive</td>\n",
       "      <td>[really, rough, one, mental, health, truly, fe...</td>\n",
       "      <td>really rough one mental health truly feel many...</td>\n",
       "    </tr>\n",
       "    <tr>\n",
       "      <th>17770</th>\n",
       "      <td>happy new year everyone except boy dated coupl...</td>\n",
       "      <td>positive</td>\n",
       "      <td>[happy, new, year, everyone, except, boy, date...</td>\n",
       "      <td>happy new year everyone except boy dated coupl...</td>\n",
       "    </tr>\n",
       "    <tr>\n",
       "      <th>17771</th>\n",
       "      <td>crazy bought car moved shot porn butt plug bum...</td>\n",
       "      <td>negative</td>\n",
       "      <td>[crazy, bought, car, moved, shot, porn, butt, ...</td>\n",
       "      <td>crazy bought car moved shot porn butt plug bum...</td>\n",
       "    </tr>\n",
       "    <tr>\n",
       "      <th>17772</th>\n",
       "      <td>think descent art year despite able use tablet...</td>\n",
       "      <td>neutral</td>\n",
       "      <td>[think, descent, art, year, despite, able, use...</td>\n",
       "      <td>think descent art year despite able use tablet...</td>\n",
       "    </tr>\n",
       "    <tr>\n",
       "      <th>17773</th>\n",
       "      <td>hi active moment wanted say happy new year acc...</td>\n",
       "      <td>positive</td>\n",
       "      <td>[hi, active, moment, wanted, say, happy, new, ...</td>\n",
       "      <td>hi active moment wanted say happy new year acc...</td>\n",
       "    </tr>\n",
       "  </tbody>\n",
       "</table>\n",
       "<p>17774 rows × 4 columns</p>\n",
       "</div>"
      ],
      "text/plain": [
       "                                   non_punctuated_tweets sentiment  \\\n",
       "0      put hours game last year still holds well blas...  positive   \n",
       "1                                   story great terrible  positive   \n",
       "2      jaedo event bought tickets nd quarter finally ...  negative   \n",
       "3      year going super dynamic bc im graduating uni ...  positive   \n",
       "4      literally tough year none plan going right pre...  positive   \n",
       "...                                                  ...       ...   \n",
       "17769  really rough one mental health truly feel many...  positive   \n",
       "17770  happy new year everyone except boy dated coupl...  positive   \n",
       "17771  crazy bought car moved shot porn butt plug bum...  negative   \n",
       "17772  think descent art year despite able use tablet...   neutral   \n",
       "17773  hi active moment wanted say happy new year acc...  positive   \n",
       "\n",
       "                                        tokenized_tweets  \\\n",
       "0      [put, hours, game, last, year, still, holds, w...   \n",
       "1                               [story, great, terrible]   \n",
       "2      [jaedo, event, bought, tickets, nd, quarter, f...   \n",
       "3      [year, going, super, dynamic, bc, im, graduati...   \n",
       "4      [literally, tough, year, none, plan, going, ri...   \n",
       "...                                                  ...   \n",
       "17769  [really, rough, one, mental, health, truly, fe...   \n",
       "17770  [happy, new, year, everyone, except, boy, date...   \n",
       "17771  [crazy, bought, car, moved, shot, porn, butt, ...   \n",
       "17772  [think, descent, art, year, despite, able, use...   \n",
       "17773  [hi, active, moment, wanted, say, happy, new, ...   \n",
       "\n",
       "                                       lemmatized_tweets  \n",
       "0      put hour game last year still hold well blast ...  \n",
       "1                                   story great terrible  \n",
       "2      jaedo event bought ticket nd quarter finally p...  \n",
       "3      year going super dynamic bc im graduating uni ...  \n",
       "4      literally tough year none plan going right pre...  \n",
       "...                                                  ...  \n",
       "17769  really rough one mental health truly feel many...  \n",
       "17770  happy new year everyone except boy dated coupl...  \n",
       "17771  crazy bought car moved shot porn butt plug bum...  \n",
       "17772  think descent art year despite able use tablet...  \n",
       "17773  hi active moment wanted say happy new year acc...  \n",
       "\n",
       "[17774 rows x 4 columns]"
      ]
     },
     "execution_count": 9,
     "metadata": {},
     "output_type": "execute_result"
    }
   ],
   "source": [
    "Data"
   ]
  },
  {
   "cell_type": "code",
   "execution_count": 10,
   "metadata": {
    "_cell_guid": "d14c63e1-52c7-467c-93ea-a5b6734a9e33",
    "_uuid": "e32950e9-4887-4024-8cac-36d7b8a197cf",
    "execution": {
     "iopub.execute_input": "2022-01-07T00:34:51.321498Z",
     "iopub.status.busy": "2022-01-07T00:34:51.321169Z",
     "iopub.status.idle": "2022-01-07T00:34:51.326562Z",
     "shell.execute_reply": "2022-01-07T00:34:51.325841Z",
     "shell.execute_reply.started": "2022-01-07T00:34:51.321457Z"
    },
    "jupyter": {
     "outputs_hidden": false
    }
   },
   "outputs": [],
   "source": [
    "# The maximum number of words to be used. (most frequent)\n",
    "MAX_NB_WORDS = 500\n",
    "# Max number of words in each tweets.\n",
    "MAX_SEQUENCE_LENGTH = 50\n",
    "# This is fixed.\n",
    "EMBEDDING_DIM = 100"
   ]
  },
  {
   "cell_type": "code",
   "execution_count": 11,
   "metadata": {
    "_cell_guid": "496b3794-8619-42ee-ace0-55476f2d0c16",
    "_uuid": "99277f32-4109-4d9d-93fe-bb7eec260032",
    "execution": {
     "iopub.execute_input": "2022-01-07T00:34:51.328467Z",
     "iopub.status.busy": "2022-01-07T00:34:51.327740Z",
     "iopub.status.idle": "2022-01-07T00:34:51.825892Z",
     "shell.execute_reply": "2022-01-07T00:34:51.825186Z",
     "shell.execute_reply.started": "2022-01-07T00:34:51.328380Z"
    },
    "jupyter": {
     "outputs_hidden": false
    }
   },
   "outputs": [
    {
     "name": "stdout",
     "output_type": "stream",
     "text": [
      "Found 22546 unique tokens.\n"
     ]
    }
   ],
   "source": [
    "tokenizer = Tokenizer(num_words=MAX_NB_WORDS, split=' ') \n",
    "tokenizer.fit_on_texts(Data.lemmatized_tweets.values)\n",
    "word_index = tokenizer.word_index\n",
    "print('Found %s unique tokens.' % len(word_index))"
   ]
  },
  {
   "cell_type": "code",
   "execution_count": 12,
   "metadata": {
    "_cell_guid": "d6f43861-8f47-47e9-946f-32eb9c839eaf",
    "_uuid": "f52fb834-7fad-4492-be1b-e409a627a609",
    "execution": {
     "iopub.execute_input": "2022-01-07T00:34:51.831689Z",
     "iopub.status.busy": "2022-01-07T00:34:51.829602Z",
     "iopub.status.idle": "2022-01-07T00:34:52.486541Z",
     "shell.execute_reply": "2022-01-07T00:34:52.485879Z",
     "shell.execute_reply.started": "2022-01-07T00:34:51.831651Z"
    },
    "jupyter": {
     "outputs_hidden": false
    }
   },
   "outputs": [
    {
     "name": "stdout",
     "output_type": "stream",
     "text": [
      "Shape of data tensor: (17774, 50)\n"
     ]
    }
   ],
   "source": [
    "X = tokenizer.texts_to_sequences(Data.lemmatized_tweets.values)\n",
    "X = pad_sequences(X, maxlen=MAX_SEQUENCE_LENGTH)\n",
    "print('Shape of data tensor:', X.shape)"
   ]
  },
  {
   "cell_type": "code",
   "execution_count": 13,
   "metadata": {
    "_cell_guid": "a4df4bd2-f7d2-4214-ac2f-3c0c379bc99a",
    "_uuid": "dfc79db5-1304-4e65-9eea-d5001ef41337",
    "execution": {
     "iopub.execute_input": "2022-01-07T00:34:52.492537Z",
     "iopub.status.busy": "2022-01-07T00:34:52.490635Z",
     "iopub.status.idle": "2022-01-07T00:34:52.505702Z",
     "shell.execute_reply": "2022-01-07T00:34:52.504899Z",
     "shell.execute_reply.started": "2022-01-07T00:34:52.492498Z"
    },
    "jupyter": {
     "outputs_hidden": false
    }
   },
   "outputs": [
    {
     "name": "stdout",
     "output_type": "stream",
     "text": [
      "Shape of label tensor: (17774, 3)\n"
     ]
    }
   ],
   "source": [
    "Y = pd.get_dummies(Data.sentiment).values\n",
    "print('Shape of label tensor:', Y.shape)"
   ]
  },
  {
   "cell_type": "code",
   "execution_count": 14,
   "metadata": {
    "_cell_guid": "1457d245-2e38-403d-84ae-92b54a70089d",
    "_uuid": "d8ab4202-9653-40c9-83df-335f357728c1",
    "execution": {
     "iopub.execute_input": "2022-01-07T00:34:52.832965Z",
     "iopub.status.busy": "2022-01-07T00:34:52.832689Z",
     "iopub.status.idle": "2022-01-07T00:34:52.841612Z",
     "shell.execute_reply": "2022-01-07T00:34:52.840841Z",
     "shell.execute_reply.started": "2022-01-07T00:34:52.832918Z"
    },
    "jupyter": {
     "outputs_hidden": false
    }
   },
   "outputs": [
    {
     "data": {
      "text/plain": [
       "array([[0, 0, 1],\n",
       "       [0, 0, 1],\n",
       "       [1, 0, 0],\n",
       "       ...,\n",
       "       [1, 0, 0],\n",
       "       [0, 1, 0],\n",
       "       [0, 0, 1]], dtype=uint8)"
      ]
     },
     "execution_count": 14,
     "metadata": {},
     "output_type": "execute_result"
    }
   ],
   "source": [
    "Y"
   ]
  },
  {
   "cell_type": "code",
   "execution_count": 15,
   "metadata": {
    "_cell_guid": "2d25292f-6dcf-4de9-a2b8-0cea9fe73e8e",
    "_uuid": "24010411-b976-4347-aaaa-6ae1ac34ed66",
    "execution": {
     "iopub.execute_input": "2022-01-07T00:34:53.972962Z",
     "iopub.status.busy": "2022-01-07T00:34:53.972691Z",
     "iopub.status.idle": "2022-01-07T00:34:53.986675Z",
     "shell.execute_reply": "2022-01-07T00:34:53.985149Z",
     "shell.execute_reply.started": "2022-01-07T00:34:53.972911Z"
    },
    "jupyter": {
     "outputs_hidden": false
    }
   },
   "outputs": [
    {
     "name": "stdout",
     "output_type": "stream",
     "text": [
      "(14219, 50) (14219, 3)\n",
      "(3555, 50) (3555, 3)\n"
     ]
    }
   ],
   "source": [
    "X_train, X_test, Y_train, Y_test = train_test_split(X,Y, test_size = 0.2, random_state = 42)\n",
    "print(X_train.shape,Y_train.shape)\n",
    "print(X_test.shape,Y_test.shape)"
   ]
  },
  {
   "cell_type": "code",
   "execution_count": 16,
   "metadata": {
    "_cell_guid": "a641aba6-4e82-4c4b-904e-d1c5a5408430",
    "_uuid": "edbda819-6663-44c7-a261-12e76cb2a064",
    "execution": {
     "iopub.execute_input": "2022-01-07T00:34:55.290299Z",
     "iopub.status.busy": "2022-01-07T00:34:55.290027Z",
     "iopub.status.idle": "2022-01-07T00:34:57.714403Z",
     "shell.execute_reply": "2022-01-07T00:34:57.713565Z",
     "shell.execute_reply.started": "2022-01-07T00:34:55.290271Z"
    },
    "jupyter": {
     "outputs_hidden": false
    }
   },
   "outputs": [
    {
     "name": "stderr",
     "output_type": "stream",
     "text": [
      "2022-01-07 00:34:55.360794: I tensorflow/stream_executor/cuda/cuda_gpu_executor.cc:937] successful NUMA node read from SysFS had negative value (-1), but there must be at least one NUMA node, so returning NUMA node zero\n",
      "2022-01-07 00:34:55.440098: I tensorflow/stream_executor/cuda/cuda_gpu_executor.cc:937] successful NUMA node read from SysFS had negative value (-1), but there must be at least one NUMA node, so returning NUMA node zero\n",
      "2022-01-07 00:34:55.440806: I tensorflow/stream_executor/cuda/cuda_gpu_executor.cc:937] successful NUMA node read from SysFS had negative value (-1), but there must be at least one NUMA node, so returning NUMA node zero\n",
      "2022-01-07 00:34:55.441902: I tensorflow/core/platform/cpu_feature_guard.cc:142] This TensorFlow binary is optimized with oneAPI Deep Neural Network Library (oneDNN) to use the following CPU instructions in performance-critical operations:  AVX2 AVX512F FMA\n",
      "To enable them in other operations, rebuild TensorFlow with the appropriate compiler flags.\n",
      "2022-01-07 00:34:55.443081: I tensorflow/stream_executor/cuda/cuda_gpu_executor.cc:937] successful NUMA node read from SysFS had negative value (-1), but there must be at least one NUMA node, so returning NUMA node zero\n",
      "2022-01-07 00:34:55.443745: I tensorflow/stream_executor/cuda/cuda_gpu_executor.cc:937] successful NUMA node read from SysFS had negative value (-1), but there must be at least one NUMA node, so returning NUMA node zero\n",
      "2022-01-07 00:34:55.444409: I tensorflow/stream_executor/cuda/cuda_gpu_executor.cc:937] successful NUMA node read from SysFS had negative value (-1), but there must be at least one NUMA node, so returning NUMA node zero\n",
      "2022-01-07 00:34:57.221402: I tensorflow/stream_executor/cuda/cuda_gpu_executor.cc:937] successful NUMA node read from SysFS had negative value (-1), but there must be at least one NUMA node, so returning NUMA node zero\n",
      "2022-01-07 00:34:57.222216: I tensorflow/stream_executor/cuda/cuda_gpu_executor.cc:937] successful NUMA node read from SysFS had negative value (-1), but there must be at least one NUMA node, so returning NUMA node zero\n",
      "2022-01-07 00:34:57.222842: I tensorflow/stream_executor/cuda/cuda_gpu_executor.cc:937] successful NUMA node read from SysFS had negative value (-1), but there must be at least one NUMA node, so returning NUMA node zero\n",
      "2022-01-07 00:34:57.223436: I tensorflow/core/common_runtime/gpu/gpu_device.cc:1510] Created device /job:localhost/replica:0/task:0/device:GPU:0 with 15403 MB memory:  -> device: 0, name: Tesla P100-PCIE-16GB, pci bus id: 0000:00:04.0, compute capability: 6.0\n"
     ]
    }
   ],
   "source": [
    "from numpy.random import seed\n",
    "seed(1)\n",
    "import tensorflow\n",
    "tensorflow.random.set_seed(2)\n",
    "f1 = tfa.metrics.F1Score(36,'micro' or 'macro')\n",
    "model = Sequential()\n",
    "model.add(Embedding(MAX_NB_WORDS, EMBEDDING_DIM, input_length=X.shape[1]))\n",
    "model.add(SpatialDropout1D(0.2))\n",
    "model.add(LSTM(100, dropout=0.2, recurrent_dropout=0.2))\n",
    "model.add(Dense(3, activation='softmax'))\n",
    "model.compile(loss='categorical_crossentropy', optimizer='adam', metrics=['accuracy',f1])\n",
    "\n",
    "epochs = 7\n",
    "batch_size = 64"
   ]
  },
  {
   "cell_type": "code",
   "execution_count": 17,
   "metadata": {
    "_cell_guid": "9feb9572-0ba2-43af-a020-168ff1c39fec",
    "_uuid": "edfe6088-bbce-48fc-a633-0eae15801362",
    "execution": {
     "iopub.execute_input": "2022-01-07T00:35:01.920288Z",
     "iopub.status.busy": "2022-01-07T00:35:01.919734Z",
     "iopub.status.idle": "2022-01-07T00:41:26.328927Z",
     "shell.execute_reply": "2022-01-07T00:41:26.328153Z",
     "shell.execute_reply.started": "2022-01-07T00:35:01.920249Z"
    },
    "jupyter": {
     "outputs_hidden": false
    }
   },
   "outputs": [
    {
     "name": "stderr",
     "output_type": "stream",
     "text": [
      "2022-01-07 00:35:01.972394: I tensorflow/compiler/mlir/mlir_graph_optimization_pass.cc:185] None of the MLIR Optimization Passes are enabled (registered 2)\n"
     ]
    },
    {
     "name": "stdout",
     "output_type": "stream",
     "text": [
      "Epoch 1/7\n",
      "200/200 [==============================] - 50s 232ms/step - loss: 0.7615 - accuracy: 0.7096 - f1_score: 0.7096 - val_loss: 0.7293 - val_accuracy: 0.7082 - val_f1_score: 0.7082\n",
      "Epoch 2/7\n",
      "200/200 [==============================] - 47s 237ms/step - loss: 0.6964 - accuracy: 0.7180 - f1_score: 0.7180 - val_loss: 0.7269 - val_accuracy: 0.7032 - val_f1_score: 0.7032\n",
      "Epoch 3/7\n",
      "200/200 [==============================] - 46s 230ms/step - loss: 0.6637 - accuracy: 0.7346 - f1_score: 0.7346 - val_loss: 0.7089 - val_accuracy: 0.7194 - val_f1_score: 0.7194\n",
      "Epoch 4/7\n",
      "200/200 [==============================] - 48s 239ms/step - loss: 0.6417 - accuracy: 0.7398 - f1_score: 0.7398 - val_loss: 0.6937 - val_accuracy: 0.7215 - val_f1_score: 0.7215\n",
      "Epoch 5/7\n",
      "200/200 [==============================] - 47s 233ms/step - loss: 0.6141 - accuracy: 0.7539 - f1_score: 0.7539 - val_loss: 0.6680 - val_accuracy: 0.7342 - val_f1_score: 0.7342\n",
      "Epoch 6/7\n",
      "200/200 [==============================] - 46s 231ms/step - loss: 0.5934 - accuracy: 0.7596 - f1_score: 0.7596 - val_loss: 0.6605 - val_accuracy: 0.7349 - val_f1_score: 0.7349\n",
      "Epoch 7/7\n",
      "200/200 [==============================] - 47s 235ms/step - loss: 0.5747 - accuracy: 0.7664 - f1_score: 0.7664 - val_loss: 0.6597 - val_accuracy: 0.7461 - val_f1_score: 0.7461\n"
     ]
    }
   ],
   "source": [
    "history_1 = model.fit(X_train, Y_train, epochs=epochs, batch_size=batch_size,validation_split=0.1,callbacks=[EarlyStopping(monitor='val_loss', patience=3, min_delta=0.0001)])"
   ]
  },
  {
   "cell_type": "code",
   "execution_count": 19,
   "metadata": {
    "_cell_guid": "40d56c53-0cc6-41e9-a05f-b7b9ec084b15",
    "_uuid": "1df6d963-f853-415e-8dad-d7eea13ea203",
    "execution": {
     "iopub.execute_input": "2022-01-07T00:41:43.805790Z",
     "iopub.status.busy": "2022-01-07T00:41:43.805539Z",
     "iopub.status.idle": "2022-01-07T00:41:45.438650Z",
     "shell.execute_reply": "2022-01-07T00:41:45.437908Z",
     "shell.execute_reply.started": "2022-01-07T00:41:43.805762Z"
    },
    "jupyter": {
     "outputs_hidden": false
    }
   },
   "outputs": [
    {
     "name": "stdout",
     "output_type": "stream",
     "text": [
      "112/112 [==============================] - 2s 14ms/step - loss: 0.6608 - accuracy: 0.7474 - f1_score: 0.7474\n",
      "Test set\n",
      "  Loss: 0.661\n",
      "  Accuracy: 0.747\n"
     ]
    }
   ],
   "source": [
    "accr = model.evaluate(X_test,Y_test)\n",
    "print('Test set\\n  Loss: {:0.3f}\\n  Accuracy: {:0.3f}'.format(accr[0],accr[1]))"
   ]
  },
  {
   "cell_type": "code",
   "execution_count": 20,
   "metadata": {
    "_cell_guid": "029490c2-5523-4e7e-b3da-5589e5465650",
    "_uuid": "1a5868b6-b82f-4c52-9731-808c5a23720e",
    "execution": {
     "iopub.execute_input": "2022-01-07T00:41:49.172923Z",
     "iopub.status.busy": "2022-01-07T00:41:49.172664Z",
     "iopub.status.idle": "2022-01-07T00:41:49.429632Z",
     "shell.execute_reply": "2022-01-07T00:41:49.428863Z",
     "shell.execute_reply.started": "2022-01-07T00:41:49.172893Z"
    },
    "jupyter": {
     "outputs_hidden": false
    }
   },
   "outputs": [
    {
     "data": {
      "image/png": "[encoded data removed]",
      "text/plain": [
       "<Figure size 576x576 with 1 Axes>"
      ]
     },
     "metadata": {
      "needs_background": "light"
     },
     "output_type": "display_data"
    }
   ],
   "source": [
    "plt.figure(figsize=(8, 8))\n",
    "plt.title('Loss')\n",
    "plt.plot(history_1.history['loss'], label='train')\n",
    "plt.plot(history_1.history['val_loss'], label='test')\n",
    "plt.legend()\n",
    "plt.show();"
   ]
  },
  {
   "cell_type": "code",
   "execution_count": 21,
   "metadata": {
    "_cell_guid": "22246bb6-8d91-43d3-a0f0-5246c0d63f20",
    "_uuid": "b0ae44e1-3db4-486b-a416-8c1574580c98",
    "execution": {
     "iopub.execute_input": "2022-01-07T00:41:53.602202Z",
     "iopub.status.busy": "2022-01-07T00:41:53.601756Z",
     "iopub.status.idle": "2022-01-07T00:41:53.806410Z",
     "shell.execute_reply": "2022-01-07T00:41:53.805749Z",
     "shell.execute_reply.started": "2022-01-07T00:41:53.602165Z"
    },
    "jupyter": {
     "outputs_hidden": false
    }
   },
   "outputs": [
    {
     "data": {
      "image/png": "[encoded data removed]",
      "text/plain": [
       "<Figure size 576x576 with 1 Axes>"
      ]
     },
     "metadata": {
      "needs_background": "light"
     },
     "output_type": "display_data"
    }
   ],
   "source": [
    "plt.figure(figsize=(8, 8))\n",
    "plt.title('Accuracy')\n",
    "plt.plot(history_1.history['accuracy'], label='train')\n",
    "plt.plot(history_1.history['val_accuracy'], label='test')\n",
    "plt.legend()\n",
    "plt.show();"
   ]
  },
  {
   "cell_type": "code",
   "execution_count": 22,
   "metadata": {
    "_cell_guid": "a3d6e11a-c542-40bb-b204-91a567fd5e75",
    "_uuid": "1fc99554-4a82-4eae-83ff-ab9bacc9acbc",
    "execution": {
     "iopub.execute_input": "2022-01-07T00:41:57.432379Z",
     "iopub.status.busy": "2022-01-07T00:41:57.431813Z",
     "iopub.status.idle": "2022-01-07T00:41:57.699500Z",
     "shell.execute_reply": "2022-01-07T00:41:57.698631Z",
     "shell.execute_reply.started": "2022-01-07T00:41:57.432337Z"
    },
    "jupyter": {
     "outputs_hidden": false
    }
   },
   "outputs": [
    {
     "name": "stdout",
     "output_type": "stream",
     "text": [
      "[[0.1166406  0.02953981 0.8538196 ]] positive\n"
     ]
    }
   ],
   "source": [
    "tweet = [\"I keep seeing all these posts about how  2021 was terrible for lots of people... and it's sad, because it was a very good year for me.\"]\n",
    "seq = tokenizer.texts_to_sequences(tweet)\n",
    "padded = pad_sequences(seq, maxlen=MAX_SEQUENCE_LENGTH)\n",
    "pred = model.predict(padded)\n",
    "labels = ['negative','neutral','positive']\n",
    "print(pred, labels[np.argmax(pred)])"
   ]
  },
  {
   "cell_type": "code",
   "execution_count": null,
   "metadata": {
    "_cell_guid": "9b469235-767f-40b9-aa47-88c01742fb26",
    "_uuid": "5aae45da-e25e-4642-b82e-f521bf5e9786",
    "jupyter": {
     "outputs_hidden": false
    }
   },
   "outputs": [],
   "source": []
  },
  {
   "cell_type": "code",
   "execution_count": null,
   "metadata": {
    "_cell_guid": "3ca30b75-9e16-4134-b4c2-a23751fc86f0",
    "_uuid": "4c1bf4e3-62fc-4abe-85c1-0e8ea47deab3",
    "execution": {
     "iopub.execute_input": "2022-01-06T20:48:09.628376Z",
     "iopub.status.busy": "2022-01-06T20:48:09.628089Z",
     "iopub.status.idle": "2022-01-06T20:48:09.75808Z",
     "shell.execute_reply": "2022-01-06T20:48:09.75739Z",
     "shell.execute_reply.started": "2022-01-06T20:48:09.628343Z"
    },
    "jupyter": {
     "outputs_hidden": false
    }
   },
   "outputs": [],
   "source": []
  },
  {
   "cell_type": "code",
   "execution_count": null,
   "metadata": {
    "_cell_guid": "e9bdadda-74fb-4d4e-ada0-bf0736b7e990",
    "_uuid": "73cc2968-2a8e-4d74-9acb-fe1eac4bf505",
    "execution": {
     "iopub.execute_input": "2022-01-06T20:21:28.050979Z",
     "iopub.status.busy": "2022-01-06T20:21:28.050719Z",
     "iopub.status.idle": "2022-01-06T20:21:28.059048Z",
     "shell.execute_reply": "2022-01-06T20:21:28.058061Z",
     "shell.execute_reply.started": "2022-01-06T20:21:28.050949Z"
    },
    "jupyter": {
     "outputs_hidden": false
    }
   },
   "outputs": [],
   "source": []
  }
 ],
 "metadata": {
  "kernelspec": {
   "display_name": "Python 3 (ipykernel)",
   "language": "python",
   "name": "python3"
  },
  "language_info": {
   "codemirror_mode": {
    "name": "ipython",
    "version": 3
   },
   "file_extension": ".py",
   "mimetype": "text/x-python",
   "name": "python",
   "nbconvert_exporter": "python",
   "pygments_lexer": "ipython3",
   "version": "3.7.12"
  }
 },
 "nbformat": 4,
 "nbformat_minor": 4
}
